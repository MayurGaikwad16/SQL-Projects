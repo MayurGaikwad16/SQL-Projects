{
 "cells": [
  {
   "cell_type": "code",
   "execution_count": 1,
   "id": "167861f2",
   "metadata": {},
   "outputs": [
    {
     "name": "stdout",
     "output_type": "stream",
     "text": [
      "Enter file name: mbox.txt\n",
      "iupui.edu 536\n",
      "umich.edu 491\n",
      "indiana.edu 178\n",
      "caret.cam.ac.uk 157\n",
      "vt.edu 110\n",
      "uct.ac.za 96\n",
      "media.berkeley.edu 56\n",
      "ufp.pt 28\n",
      "gmail.com 25\n",
      "whitman.edu 17\n"
     ]
    }
   ],
   "source": [
    "import re\n",
    "import psycopg2\n",
    "\n",
    "hostname = 'localhost'\n",
    "database = 'Counts'\n",
    "username = 'postgres'\n",
    "pwd = 1111\n",
    "port_id = 5432\n",
    "\n",
    "try:\n",
    "    conn = psycopg2.connect(host=hostname, dbname=database, user=username, password=pwd, port=port_id)\n",
    "    cur = conn.cursor()\n",
    "\n",
    "    cur.execute(\"DROP TABLE IF EXISTS Counts\")\n",
    "    \n",
    "    cur.execute(\"\"\"\n",
    "    CREATE TABLE Counts (\n",
    "        org TEXT PRIMARY KEY,\n",
    "        count INTEGER\n",
    "    );\n",
    "    \"\"\")\n",
    "\n",
    "    filename = input(\"Enter file name: \")\n",
    "    if len(filename) < 1: \n",
    "        filename = 'mbox-short.txt'\n",
    "\n",
    "    with open(filename) as fh:\n",
    "        for line in fh:\n",
    "            if not line.startswith('From: '): \n",
    "                continue\n",
    "            all_org = re.findall(r\"@(\\S+)\", line)\n",
    "            if all_org:  \n",
    "                org = all_org[0].strip()\n",
    "                cur.execute(\"SELECT count FROM Counts WHERE org = %s\", (org,))\n",
    "                row = cur.fetchone()\n",
    "                if row is None:\n",
    "                    cur.execute(\"INSERT INTO Counts (org, count) VALUES (%s, 1)\", (org,))\n",
    "                else:\n",
    "                    cur.execute(\"UPDATE Counts SET count = count + 1 WHERE org = %s\", (org,))\n",
    "\n",
    "    conn.commit()\n",
    "\n",
    "    sqlstr = \"SELECT org, count FROM Counts ORDER BY count DESC LIMIT 10\"\n",
    "    cur.execute(sqlstr)\n",
    "    rows = cur.fetchall()\n",
    "\n",
    "    for row in rows:\n",
    "        print(str(row[0]), row[1])\n",
    "\n",
    "except Exception as e:\n",
    "    print(f\"An error occurred: {e}\")\n",
    "\n",
    "finally:\n",
    "    if cur:\n",
    "        cur.close()\n",
    "    if conn:\n",
    "        conn.close()\n"
   ]
  },
  {
   "cell_type": "code",
   "execution_count": null,
   "id": "944aadd2",
   "metadata": {},
   "outputs": [],
   "source": []
  }
 ],
 "metadata": {
  "kernelspec": {
   "display_name": "Python 3 (ipykernel)",
   "language": "python",
   "name": "python3"
  },
  "language_info": {
   "codemirror_mode": {
    "name": "ipython",
    "version": 3
   },
   "file_extension": ".py",
   "mimetype": "text/x-python",
   "name": "python",
   "nbconvert_exporter": "python",
   "pygments_lexer": "ipython3",
   "version": "3.11.5"
  }
 },
 "nbformat": 4,
 "nbformat_minor": 5
}
